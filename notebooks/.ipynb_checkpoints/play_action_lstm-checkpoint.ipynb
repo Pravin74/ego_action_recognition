{
 "cells": [
  {
   "cell_type": "code",
   "execution_count": 3,
   "metadata": {},
   "outputs": [],
   "source": [
    "from __future__ import print_function, division\n",
    "import sys\n",
    "sys.path.append('../')\n",
    "sys.path.append('../utils')\n",
    "import shutil\n",
    "import torch\n",
    "import torch.nn as nn\n",
    "import torch.optim as optim\n",
    "from torch.optim import lr_scheduler\n",
    "from torch.autograd import Variable\n",
    "import numpy as np\n",
    "import torchvision\n",
    "from torchvision import datasets, models, transforms\n",
    "import matplotlib.pyplot as plt\n",
    "import time\n",
    "import os\n",
    "import torch.utils.data as data\n",
    "import torch.nn.functional as F\n",
    "from config import GTEA as DATA \n",
    "from utils.folder import SequencePreloader, NpySequencePreloader"
   ]
  },
  {
   "cell_type": "code",
   "execution_count": null,
   "metadata": {},
   "outputs": [],
   "source": [
    "class LSTMNet(nn.Module):\n",
    "    def __init__(self, input_size, hidden_size):\n",
    "        super(LSTMNet, self).__init__()\n",
    "        self.hidden_size = hidden_size\n",
    "        self.rnn = nn.LSTM(input_size, hidden_size, 1, batch_first=True)\n",
    "        self.out = nn.Linear(hidden_size, num_classes)\n",
    "    \n",
    "    def forward(self, inp):\n",
    "        x = self.rnn(inp)[0]\n",
    "        x = x.permute(1,0,2)\n",
    "        \n",
    "        outputs = []\n",
    "        for i in range(x.size()[0]):\n",
    "            print(self.out(x[i]))\n",
    "\n",
    "class Net(nn.Module):\n",
    "    def __init__(self, model_conv, input_size, hidden_size):\n",
    "        super(Net, self).__init__()\n",
    "        self.lstmNet = LSTMNet(input_size, hidden_size)\n",
    "        \n",
    "    def forward(self, inp, phase):\n",
    "        outputs = self.lstmNet(inp)\n",
    "        return outputs"
   ]
  }
 ],
 "metadata": {
  "kernelspec": {
   "display_name": "Python 2",
   "language": "python",
   "name": "python2"
  },
  "language_info": {
   "codemirror_mode": {
    "name": "ipython",
    "version": 2
   },
   "file_extension": ".py",
   "mimetype": "text/x-python",
   "name": "python",
   "nbconvert_exporter": "python",
   "pygments_lexer": "ipython2",
   "version": "2.7.12"
  }
 },
 "nbformat": 4,
 "nbformat_minor": 2
}
